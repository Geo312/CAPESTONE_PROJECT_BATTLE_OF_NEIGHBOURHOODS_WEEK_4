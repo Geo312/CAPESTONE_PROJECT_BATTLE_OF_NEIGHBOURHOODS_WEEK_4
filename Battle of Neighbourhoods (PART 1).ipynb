{
 "cells": [
  {
   "cell_type": "markdown",
   "metadata": {
    "collapsed": true
   },
   "source": [
    "# THE BATTLE OF NEIGHBOURHOODS | BUSINESS PROPOSAL |"
   ]
  },
  {
   "cell_type": "markdown",
   "metadata": {},
   "source": [
    "## INTRODUCTION :"
   ]
  },
  {
   "cell_type": "markdown",
   "metadata": {},
   "source": [
    "Toronto is said to be the largest city of Canada. Many immigrant cultures have come to Toronto and have brought their traditions, languages, food, and music to the city. This shows that Toronto is the most ethnically diverse city. Besides, the diverse culture that is brought into the city, Toronto is also a business-minded, conscientious, socially progressive, and pluralistic city. It is a city of many museums, theatres, festival events and sports activities. \n",
    "\n",
    "Thus,the purpose of this project is to provide enough information for someone who would like to open up a bakery in the city of Toronto. The idea is to help someone make a smart and efficient decision on selecting a great location for starting a bakery in Toronto. Fast forward in time, this will help the owner of the bakery to feel he/she made the right decision and hopefully have the bakery bringing in more customers year on year, and simultanseously growing the business over time.   \n",
    "\n",
    "So as part of this project, we will list and visualise all major parts of Toronto City that has great bakeries spread across the city."
   ]
  },
  {
   "cell_type": "markdown",
   "metadata": {},
   "source": [
    "## DATA COLLECTION :"
   ]
  },
  {
   "cell_type": "markdown",
   "metadata": {},
   "source": [
    "For this project we need the following data :\n",
    "\n",
    "   - Toronto city data that contains information on Postal code,  Boroughs and Neighborhoods.\n",
    "      1.  **Data source** : https://en.wikipedia.org/wiki/List_of_postal_codes_of_Canada:_M\n",
    "      2. **Description** : This data set contains the required information. And we will use this data set to explore various neighborhoods of Toronto city. \n",
    "   - Bakeries that are found in each neighborhood of Toronto city.\n",
    "      1. **Data source** : Fousquare API\n",
    "      2. **Description** : By using this api we will get all the venues in each neighborhood. We can filter these venues to get only bakeries.\n",
    "   - GeoSpace data\n",
    "      1. **Data source** : http://cocl.us/Geospatial_data\n",
    "      2. **Description** : By using this geo space data we will get the latitude and longitude of each of the neighbourhoods."
   ]
  },
  {
   "cell_type": "markdown",
   "metadata": {},
   "source": [
    "## APPROACH :"
   ]
  },
  {
   "cell_type": "markdown",
   "metadata": {},
   "source": [
    "  1. Collect the Toronto city data from https://en.wikipedia.org/wiki/List_of_postal_codes_of_Canada:_M.\n",
    "  2. Using FourSquare API we will find all venues for each neighborhood. Also using credentials of Foursquare API features of near-by places of the neighborhoods would be mined. Due to http request limitations the number of places per neighborhood parameter would reasonably be set to 100 and the radius parameter would be set to 800.\n",
    "  3. Filter out all venues that are bakeries.\n",
    "  4. Find ratings, and the number of bakeries found in each neighbourhood using FourSquare API.\n",
    "  5. We use the rating to Using rating for each resturant, we will sort that data.\n",
    "  6. Visualize the Ranking of neighborhoods using folium library(python). This can determine where will there be competition and      which all neighbourhoods will have potential to start a bakery."
   ]
  },
  {
   "cell_type": "markdown",
   "metadata": {},
   "source": [
    "## LIBRARIES TO BE USED FOR PROJECT DEVELOPMENT :"
   ]
  },
  {
   "cell_type": "markdown",
   "metadata": {},
   "source": [
    "Pandas: For creating and manipulating dataframes.\n",
    "\n",
    "Folium: Python visualization library would be used to visualize the neighborhoods cluster distribution of using interactive leaflet map.\n",
    "\n",
    "JSON: Library to handle JSON files.\n",
    "\n",
    "XML: To separate data from presentation and XML stores data in plain text format.\n",
    "\n",
    "Geocoder: To retrieve Location Data.\n",
    "\n",
    "Beautiful Soup and Requests: To scrap and library to handle http requests.\n",
    "\n",
    "Matplotlib: Python Plotting Module."
   ]
  }
 ],
 "metadata": {
  "kernelspec": {
   "display_name": "Python 3.6",
   "language": "python",
   "name": "python3"
  },
  "language_info": {
   "codemirror_mode": {
    "name": "ipython",
    "version": 3
   },
   "file_extension": ".py",
   "mimetype": "text/x-python",
   "name": "python",
   "nbconvert_exporter": "python",
   "pygments_lexer": "ipython3",
   "version": "3.6.9"
  }
 },
 "nbformat": 4,
 "nbformat_minor": 1
}
